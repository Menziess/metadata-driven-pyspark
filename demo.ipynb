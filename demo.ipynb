{
 "metadata": {
  "language_info": {
   "codemirror_mode": {
    "name": "ipython",
    "version": 3
   },
   "file_extension": ".py",
   "mimetype": "text/x-python",
   "name": "python",
   "nbconvert_exporter": "python",
   "pygments_lexer": "ipython3",
   "version": "3.8.2-final"
  },
  "orig_nbformat": 2,
  "kernelspec": {
   "name": "python38264bitmetadatadrivenpipenv827ace89d98c4be6949dece1edfc4427",
   "display_name": "Python 3.8.2 64-bit ('metadata-driven': pipenv)"
  }
 },
 "nbformat": 4,
 "nbformat_minor": 2,
 "cells": [
  {
   "cell_type": "markdown",
   "metadata": {},
   "source": [
    "# Metadata-Driven"
   ]
  },
  {
   "cell_type": "code",
   "execution_count": 1,
   "metadata": {
    "tags": []
   },
   "outputs": [],
   "source": [
    "%load_ext autoreload\n",
    "%autoreload 2"
   ]
  },
  {
   "cell_type": "code",
   "execution_count": 2,
   "metadata": {
    "tags": []
   },
   "outputs": [
    {
     "output_type": "stream",
     "name": "stdout",
     "text": "databricks-connect is not installed\n"
    }
   ],
   "source": [
    "from metadata_driven import main"
   ]
  },
  {
   "cell_type": "markdown",
   "metadata": {},
   "source": [
    "## 1. Pipeline\n",
    "\n",
    "A pipeline returns a context manager that writes the dataframe using the path in the provided metadata file.\n",
    "\n",
    "```py\n",
    "with main.pipeline('mnt/houses.json') as df:\n",
    "    df.show()\n",
    "```\n",
    "\n",
    "It's possible to avoid writing by manually \"entering\" the context manager, like so:"
   ]
  },
  {
   "cell_type": "code",
   "execution_count": 6,
   "metadata": {
    "tags": []
   },
   "outputs": [
    {
     "output_type": "stream",
     "name": "stdout",
     "text": "+---+----------+------------+---------------------+\n| id|      city|city_str_len|city_str_len_plus_one|\n+---+----------+------------+---------------------+\n|  3| Enkhuizen|           9|                   10|\n|  2| Enkhuizen|           9|                   10|\n|  0| Enkhuizen|           9|                   10|\n|  1| Venhuizen|           9|                   10|\n|  4|     Zwaag|           5|                    6|\n|  5|Lutjebroek|          10|                   11|\n+---+----------+------------+---------------------+\n\n"
    }
   ],
   "source": [
    "df = main.pipeline('mnt/houses.json').__enter__()\n",
    "df.show()"
   ]
  },
  {
   "cell_type": "markdown",
   "metadata": {},
   "source": [
    "It's possible to read and join multiple files, it's not possible to output multiple files. See the definition of [mnt/friends_and_houses.json](mnt/friends_and_houses.json), it contains both `friends` and `houses` as inputs."
   ]
  },
  {
   "cell_type": "code",
   "execution_count": 21,
   "metadata": {
    "tags": []
   },
   "outputs": [
    {
     "output_type": "stream",
     "name": "stdout",
     "text": "+---------+---+--------+----------+\n|firstname| id|lastname|      city|\n+---------+---+--------+----------+\n|   Stefan|  0|  Schenk| Enkhuizen|\n|    Chris|  1| Wijnker| Venhuizen|\n|      Tom|  2|  Kamper| Enkhuizen|\n|     Dion|  3| Buysman| Enkhuizen|\n|     Dave|  4|  Conijn|     Zwaag|\n|  Dimitri|  5|  Stathi|Lutjebroek|\n+---------+---+--------+----------+\n\n"
    }
   ],
   "source": [
    "df = main.pipeline('mnt/friends_and_houses.json').__enter__()\n",
    "df.show()"
   ]
  }
 ]
}