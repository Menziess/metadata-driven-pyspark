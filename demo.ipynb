{
 "metadata": {
  "language_info": {
   "codemirror_mode": {
    "name": "ipython",
    "version": 3
   },
   "file_extension": ".py",
   "mimetype": "text/x-python",
   "name": "python",
   "nbconvert_exporter": "python",
   "pygments_lexer": "ipython3",
   "version": "3.8.2-final"
  },
  "orig_nbformat": 2,
  "kernelspec": {
   "name": "python38264bitmetadatadrivenpipenv827ace89d98c4be6949dece1edfc4427",
   "display_name": "Python 3.8.2 64-bit ('metadata-driven': pipenv)"
  }
 },
 "nbformat": 4,
 "nbformat_minor": 2,
 "cells": [
  {
   "cell_type": "code",
   "execution_count": 13,
   "metadata": {
    "tags": []
   },
   "outputs": [
    {
     "output_type": "stream",
     "name": "stdout",
     "text": "The autoreload extension is already loaded. To reload it, use:\n  %reload_ext autoreload\n"
    }
   ],
   "source": [
    "%load_ext autoreload\n",
    "%autoreload 2"
   ]
  },
  {
   "cell_type": "code",
   "execution_count": 14,
   "metadata": {
    "tags": []
   },
   "outputs": [],
   "source": [
    "from metadata_driven import main"
   ]
  },
  {
   "cell_type": "code",
   "execution_count": 18,
   "metadata": {},
   "outputs": [],
   "source": [
    "df = main.pipeline('mnt/houses.json').__enter__()"
   ]
  },
  {
   "cell_type": "code",
   "execution_count": 19,
   "metadata": {
    "tags": []
   },
   "outputs": [
    {
     "output_type": "stream",
     "name": "stdout",
     "text": "+---+----------+------------+---------------------+\n| id|      city|city_str_len|city_str_len_plus_one|\n+---+----------+------------+---------------------+\n|  3| Enkhuizen|           9|                   10|\n|  2| Enkhuizen|           9|                   10|\n|  0| Enkhuizen|           9|                   10|\n|  1| Venhuizen|           9|                   10|\n|  4|     Zwaag|           5|                    6|\n|  5|Lutjebroek|          10|                   11|\n+---+----------+------------+---------------------+\n\n"
    }
   ],
   "source": [
    "df.show()"
   ]
  }
 ]
}