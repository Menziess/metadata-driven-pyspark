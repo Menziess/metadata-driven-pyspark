{
 "cells": [
  {
   "cell_type": "code",
   "execution_count": 10,
   "metadata": {},
   "outputs": [],
   "source": [
    "from pyspark.sql import DataFrame\n",
    "from toolz import curry\n",
    "\n",
    "from metadata_driven.main import read, spark\n",
    "from metadata_driven.utils.databricks import load_json_dbfs"
   ]
  },
  {
   "cell_type": "code",
   "execution_count": 4,
   "metadata": {},
   "outputs": [
    {
     "output_type": "stream",
     "name": "stdout",
     "text": "+---+----------+\n| id|      city|\n+---+----------+\n|  5|Lutjebroek|\n|  4|     Zwaag|\n|  0| Enkhuizen|\n|  2| Enkhuizen|\n|  3| Enkhuizen|\n|  1| Venhuizen|\n+---+----------+\n\n"
    }
   ],
   "source": [
    "df = read('mnt/houses.json')\n",
    "df.show()"
   ]
  },
  {
   "cell_type": "code",
   "execution_count": 26,
   "metadata": {},
   "outputs": [],
   "source": [
    "@curry\n",
    "def write(df: DataFrame, metajsonpath: str) -> None:\n",
    "    \"\"\"Write DataFrame using metadata.\"\"\"\n",
    "    meta = load_json_dbfs(metajsonpath)['output']\n",
    "    df.write.save(\n",
    "        path=meta.get('path'), \n",
    "        format=meta.get('format', 'parquet'), \n",
    "        mode=meta.get('mode', 'error'), \n",
    "        partitionBy=meta.get('partitionBy', None), \n",
    "        **meta.get('options', {})\n",
    "    )"
   ]
  },
  {
   "cell_type": "code",
   "execution_count": 24,
   "metadata": {},
   "outputs": [
    {
     "output_type": "stream",
     "name": "stdout",
     "text": "Help on function keyfilter in module toolz.dicttoolz:\n\nkeyfilter(predicate, d, factory=<class 'dict'>)\n    Filter items in dictionary by key\n    \n    >>> iseven = lambda x: x % 2 == 0\n    >>> d = {1: 2, 2: 3, 3: 4, 4: 5}\n    >>> keyfilter(iseven, d)\n    {2: 3, 4: 5}\n    \n    See Also:\n        valfilter\n        itemfilter\n        keymap\n\n"
    }
   ],
   "source": [
    "help(d.keyfilter)"
   ]
  },
  {
   "cell_type": "code",
   "execution_count": 21,
   "metadata": {},
   "outputs": [
    {
     "output_type": "execute_result",
     "data": {
      "text/plain": "['__all__',\n '__builtins__',\n '__cached__',\n '__doc__',\n '__file__',\n '__loader__',\n '__name__',\n '__package__',\n '__spec__',\n '_get_factory',\n 'assoc',\n 'assoc_in',\n 'dissoc',\n 'get_in',\n 'itemfilter',\n 'itemmap',\n 'iteritems',\n 'iterkeys',\n 'itervalues',\n 'keyfilter',\n 'keymap',\n 'map',\n 'merge',\n 'merge_with',\n 'operator',\n 'reduce',\n 'update_in',\n 'valfilter',\n 'valmap',\n 'zip']"
     },
     "metadata": {},
     "execution_count": 21
    }
   ],
   "source": [
    "from toolz import dicttoolz as d\n",
    "\n",
    "dir(dicttoolz)"
   ]
  }
 ],
 "metadata": {
  "language_info": {
   "codemirror_mode": {
    "name": "ipython",
    "version": 3
   },
   "file_extension": ".py",
   "mimetype": "text/x-python",
   "name": "python",
   "nbconvert_exporter": "python",
   "pygments_lexer": "ipython3",
   "version": "3.7.5-final"
  },
  "orig_nbformat": 2,
  "kernelspec": {
   "name": "python37564bitvenvvirtualenv3b613547288e4a05b54de472a6abae1a",
   "display_name": "Python 3.7.5 64-bit ('.venv': virtualenv)"
  }
 },
 "nbformat": 4,
 "nbformat_minor": 2
}