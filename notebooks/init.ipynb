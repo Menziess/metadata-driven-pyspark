{
 "cells": [
  {
   "cell_type": "code",
   "execution_count": 3,
   "metadata": {},
   "outputs": [],
   "source": [
    "from pyspark.sql import SparkSession\n",
    "\n",
    "spark = SparkSession.builder.getOrCreate()"
   ]
  },
  {
   "cell_type": "code",
   "execution_count": 4,
   "metadata": {},
   "outputs": [],
   "source": [
    "df = spark.createDataFrame([\n",
    "    (0, 'Stefan', 'Schenk'),\n",
    "    (1, 'Chris', 'Wijnker'),\n",
    "    (2, 'Tom', 'Kamper'),\n",
    "    (3, 'Dion', 'Buysman'),\n",
    "    (4, 'Dave', 'Conijn'),\n",
    "    (5, 'Dimitri', 'Stathi'),\n",
    "    (6, 'Mark', 'Breukink'),\n",
    "], ['id', 'firstname', 'lastname'])"
   ]
  },
  {
   "cell_type": "code",
   "execution_count": 5,
   "metadata": {},
   "outputs": [
    {
     "output_type": "stream",
     "name": "stdout",
     "text": "+---+---------+---------+\n| id|firstname| lastname|\n+---+---------+---------+\n|  0|   Stefan|   Schenk|\n|  1|    Simon|Goldsmith|\n+---+---------+---------+\n\n"
    }
   ],
   "source": [
    "df_houses = spark.createDataFrame([\n",
    "    (0, 'Enkhuizen'),\n",
    "    (1, 'Venhuizen'),\n",
    "    (2, 'Enkhuizen'),\n",
    "    (3, 'Enkhuizen'),\n",
    "    (4, 'Zwaag'),\n",
    "    (5, 'Lutjebroek'),\n",
    "], ['owner_id', 'city'])"
   ]
  }
 ],
 "metadata": {
  "language_info": {
   "codemirror_mode": {
    "name": "ipython",
    "version": 3
   },
   "file_extension": ".py",
   "mimetype": "text/x-python",
   "name": "python",
   "nbconvert_exporter": "python",
   "pygments_lexer": "ipython3",
   "version": "3.7.5-final"
  },
  "orig_nbformat": 2,
  "kernelspec": {
   "name": "python37564bitvenvvirtualenv3b613547288e4a05b54de472a6abae1a",
   "display_name": "Python 3.7.5 64-bit ('.venv': virtualenv)"
  }
 },
 "nbformat": 4,
 "nbformat_minor": 2
}