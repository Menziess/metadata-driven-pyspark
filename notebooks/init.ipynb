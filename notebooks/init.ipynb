{
 "cells": [
  {
   "cell_type": "code",
   "execution_count": 3,
   "metadata": {},
   "outputs": [],
   "source": [
    "from pyspark.sql import SparkSession\n",
    "\n",
    "spark = SparkSession.builder.getOrCreate()"
   ]
  },
  {
   "cell_type": "code",
   "execution_count": 21,
   "metadata": {},
   "outputs": [],
   "source": [
    "(\n",
    "    spark.createDataFrame([\n",
    "        (0, 'Stefan', 'Schenk'),\n",
    "        (1, 'Chris', 'Wijnker'),\n",
    "        (2, 'Tom', 'Kamper'),\n",
    "        (3, 'Dion', 'Buysman'),\n",
    "        (4, 'Dave', 'Conijn'),\n",
    "        (5, 'Dimitri', 'Stathi'),\n",
    "        (6, 'Mark', 'Breukink'),\n",
    "    ], ['id', 'firstname', 'lastname'])\n",
    "    .coalesce(1)\n",
    "    .write\n",
    "    .mode('overwrite')\n",
    "    .option('header', True)\n",
    "    .csv('../mnt/friends')\n",
    ")"
   ]
  },
  {
   "cell_type": "code",
   "execution_count": 16,
   "metadata": {},
   "outputs": [],
   "source": [
    "(\n",
    "    spark.createDataFrame([\n",
    "        (0, 'Enkhuizen'),\n",
    "        (1, 'Venhuizen'),\n",
    "        (2, 'Enkhuizen'),\n",
    "        (3, 'Enkhuizen'),\n",
    "        (4, 'Zwaag'),\n",
    "        (5, 'Lutjebroek'),\n",
    "    ], ['id', 'city'])\n",
    "    .write\n",
    "    .partitionBy('city')\n",
    "    .option('header', True)\n",
    "    .csv('../mnt/houses')\n",
    ")"
   ]
  },
  {
   "cell_type": "code",
   "execution_count": 17,
   "metadata": {},
   "outputs": [
    {
     "output_type": "stream",
     "name": "stdout",
     "text": "+---+---------+--------+----------+\n| id|firstname|lastname|      city|\n+---+---------+--------+----------+\n|  0|   Stefan|  Schenk| Enkhuizen|\n|  1|    Chris| Wijnker| Venhuizen|\n|  2|      Tom|  Kamper| Enkhuizen|\n|  3|     Dion| Buysman| Enkhuizen|\n|  4|     Dave|  Conijn|     Zwaag|\n|  5|  Dimitri|  Stathi|Lutjebroek|\n|  6|     Mark|Breukink|      null|\n+---+---------+--------+----------+\n\n"
    }
   ],
   "source": [
    "df_friends = spark.read.csv('../mnt/friends', header=True)\n",
    "df_houses = spark.read.csv('../mnt/houses', header=True)\n",
    "\n",
    "\n",
    "df.join(df_houses, on='id', how='left').show()"
   ]
  }
 ],
 "metadata": {
  "language_info": {
   "codemirror_mode": {
    "name": "ipython",
    "version": 3
   },
   "file_extension": ".py",
   "mimetype": "text/x-python",
   "name": "python",
   "nbconvert_exporter": "python",
   "pygments_lexer": "ipython3",
   "version": "3.7.5-final"
  },
  "orig_nbformat": 2,
  "kernelspec": {
   "name": "python37564bitvenvvirtualenv3b613547288e4a05b54de472a6abae1a",
   "display_name": "Python 3.7.5 64-bit ('.venv': virtualenv)"
  }
 },
 "nbformat": 4,
 "nbformat_minor": 2
}