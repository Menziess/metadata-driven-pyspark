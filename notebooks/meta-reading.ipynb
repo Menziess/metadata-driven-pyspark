{
 "cells": [
  {
   "cell_type": "code",
   "execution_count": 1,
   "metadata": {},
   "outputs": [],
   "source": [
    "from pyspark.sql import SparkSession, DataFrame\n",
    "from pyspark.sql.types import StructType\n",
    "\n",
    "spark = SparkSession.builder.getOrCreate()"
   ]
  },
  {
   "cell_type": "code",
   "execution_count": 5,
   "metadata": {},
   "outputs": [
    {
     "output_type": "execute_result",
     "data": {
      "text/plain": "{'basePath': '../mnt/houses/', 'header': True, 'sep': ','}"
     },
     "metadata": {},
     "execution_count": 5
    }
   ],
   "source": [
    "\"\"\"Read json from dbfs or local.\"\"\"\n",
    "\n",
    "from json import load\n",
    "from os import path\n",
    "\n",
    "\n",
    "def abs_to_rel(filepath: str) -> str:\n",
    "    \"\"\"Convert `/home` to `home`.\"\"\"\n",
    "    return ''.join(filepath[1:]) if filepath[0] == '/' else filepath\n",
    "\n",
    "\n",
    "def local_file_api_path(filepath: str) -> str:\n",
    "    \"\"\"Convert `/home` to `dbfs/home` if exists.\"\"\"\n",
    "    dbfsfilepath = path.join('dbfs', abs_to_rel(filepath))\n",
    "    return dbfsfilepath if path.exists(dbfsfilepath) else filepath\n",
    "\n",
    "\n",
    "def load_json(filepath: str) -> dict:\n",
    "    \"\"\"Load json local file api.\"\"\"\n",
    "    with open(local_file_api_path(filepath), 'r') as f:\n",
    "        return load(f)\n",
    "\n",
    "\n",
    "meta = load_json('../mnt/houses.json')\n",
    "glom(meta, 'input.options', default={})"
   ]
  },
  {
   "cell_type": "code",
   "execution_count": 6,
   "metadata": {},
   "outputs": [
    {
     "output_type": "stream",
     "name": "stdout",
     "text": "root\n |-- id: long (nullable = true)\n |-- city: string (nullable = true)\n\nroot\n |-- firstname: string (nullable = true)\n |-- id: long (nullable = true)\n |-- lastname: string (nullable = true)\n\n"
    }
   ],
   "source": [
    "from glom import glom\n",
    "\n",
    "def read(metajsonpath: str) -> DataFrame:\n",
    "    \"\"\"Read folder containing metadata.\"\"\"\n",
    "    meta = load_json(metajsonpath)\n",
    "    format = glom(meta, 'input.format', default='text')\n",
    "    schema = glom(meta, 'input.schema', default=None)\n",
    "    fields = glom(meta, 'fields', default=[])\n",
    "    path = glom(meta, 'input.path')\n",
    "    return (\n",
    "        spark\n",
    "        .read\n",
    "        .load(\n",
    "            path=path,\n",
    "            format=format,\n",
    "            schema=StructType.fromJson(schema) if schema else schema,\n",
    "            **glom(meta, 'input.options', default={})\n",
    "        )\n",
    "    )\n",
    "\n",
    "\n",
    "df_houses = read('../mnt/houses.json')\n",
    "df_houses.printSchema()\n",
    "\n",
    "df_friends = read('../mnt/friends.json')\n",
    "df_friends.printSchema()"
   ]
  }
 ],
 "metadata": {
  "language_info": {
   "codemirror_mode": {
    "name": "ipython",
    "version": 3
   },
   "file_extension": ".py",
   "mimetype": "text/x-python",
   "name": "python",
   "nbconvert_exporter": "python",
   "pygments_lexer": "ipython3",
   "version": "3.7.5-final"
  },
  "orig_nbformat": 2,
  "kernelspec": {
   "name": "python37564bitvenvvirtualenv3b613547288e4a05b54de472a6abae1a",
   "display_name": "Python 3.7.5 64-bit ('.venv': virtualenv)"
  }
 },
 "nbformat": 4,
 "nbformat_minor": 2
}