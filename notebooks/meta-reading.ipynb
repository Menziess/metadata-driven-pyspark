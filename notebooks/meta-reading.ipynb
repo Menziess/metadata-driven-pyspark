{
 "cells": [
  {
   "cell_type": "code",
   "execution_count": 1,
   "metadata": {},
   "outputs": [],
   "source": [
    "from pyspark.sql import SparkSession, DataFrame\n",
    "\n",
    "spark = SparkSession.builder.getOrCreate()"
   ]
  },
  {
   "cell_type": "code",
   "execution_count": 56,
   "metadata": {},
   "outputs": [],
   "source": [
    "# \"\"\"Change cwd to root of project so we can use usual filepaths.\"\"\"\n",
    "\n",
    "# from os import chdir, getcwd\n",
    "\n",
    "# for frag in reversed(getcwd().split('/')):\n",
    "#     if frag != 'metadatadriven':\n",
    "#         chdir('..')\n",
    "#     else:\n",
    "#         print(getcwd())\n",
    "#         break"
   ]
  },
  {
   "cell_type": "code",
   "execution_count": 34,
   "metadata": {},
   "outputs": [
    {
     "output_type": "execute_result",
     "data": {
      "text/plain": "{'header': True}"
     },
     "metadata": {},
     "execution_count": 34
    }
   ],
   "source": [
    "\"\"\"Read json from dbfs or local.\"\"\"\n",
    "\n",
    "from json import load\n",
    "from os import path\n",
    "\n",
    "\n",
    "def abs_to_rel(filepath: str) -> str:\n",
    "    \"\"\"Convert `/home` to `home`.\"\"\"\n",
    "    return ''.join(filepath[1:]) if filepath[0] == '/' else filepath\n",
    "\n",
    "\n",
    "def local_file_api_path(filepath: str) -> str:\n",
    "    \"\"\"Convert `/home` to `dbfs/home` if exists.\"\"\"\n",
    "    dbfsfilepath = path.join('dbfs', abs_to_rel(filepath))\n",
    "    return dbfsfilepath if path.exists(dbfsfilepath) else filepath\n",
    "\n",
    "\n",
    "def load_json(filepath: str) -> dict:\n",
    "    \"\"\"Load json local file api.\"\"\"\n",
    "    with open(local_file_api_path(filepath), 'r') as f:\n",
    "        return load(f)\n",
    "\n",
    "\n",
    "meta = load_json(path.join('../mnt/houses', 'meta.json'))\n",
    "glom(meta, 'input.options', default={})"
   ]
  },
  {
   "cell_type": "code",
   "execution_count": 50,
   "metadata": {},
   "outputs": [
    {
     "output_type": "execute_result",
     "data": {
      "text/plain": "'../mnt/houses/**/*.csv'"
     },
     "metadata": {},
     "execution_count": 50
    }
   ],
   "source": [
    "folder = '../mnt/houses'\n",
    "path.join(folder, '**/*.csv')"
   ]
  },
  {
   "cell_type": "code",
   "execution_count": 111,
   "metadata": {},
   "outputs": [
    {
     "output_type": "stream",
     "name": "stdout",
     "text": "+---+----------+\n| id|      city|\n+---+----------+\n|  5|Lutjebroek|\n|  4|     Zwaag|\n|  0| Enkhuizen|\n|  2| Enkhuizen|\n|  3| Enkhuizen|\n|  1| Venhuizen|\n+---+----------+\n\n+---------+---+--------+\n|firstname| id|lastname|\n+---------+---+--------+\n|   Stefan|  0|  Schenk|\n|    Chris|  1| Wijnker|\n|      Tom|  2|  Kamper|\n|     Dion|  3| Buysman|\n|     Dave|  4|  Conijn|\n|  Dimitri|  5|  Stathi|\n|     Mark|  6|Breukink|\n+---------+---+--------+\n\n"
    }
   ],
   "source": [
    "from glom import glom\n",
    "\n",
    "def read(metajsonpath: str) -> DataFrame:\n",
    "    \"\"\"Read folder containing metadata.\"\"\"\n",
    "    meta = load_json(metajsonpath)\n",
    "    format = glom(meta, 'input.format', default='text')\n",
    "    fields = glom(meta, 'fields', default=[])\n",
    "    path = glom(meta, 'input.path')\n",
    "    schema = None\n",
    "    return (\n",
    "        spark\n",
    "        .read\n",
    "        .load(\n",
    "            path=path,\n",
    "            format=format,\n",
    "            schema=schema,\n",
    "            **glom(meta, 'input.options', default={})\n",
    "        )\n",
    "    )\n",
    "\n",
    "\n",
    "df_houses = read('../mnt/houses.json')\n",
    "df_houses.show()\n",
    "\n",
    "df_friends = read('../mnt/friends.json')\n",
    "df_friends.show()"
   ]
  }
 ],
 "metadata": {
  "language_info": {
   "codemirror_mode": {
    "name": "ipython",
    "version": 3
   },
   "file_extension": ".py",
   "mimetype": "text/x-python",
   "name": "python",
   "nbconvert_exporter": "python",
   "pygments_lexer": "ipython3",
   "version": "3.7.5-final"
  },
  "orig_nbformat": 2,
  "kernelspec": {
   "name": "python37564bitvenvvirtualenv3b613547288e4a05b54de472a6abae1a",
   "display_name": "Python 3.7.5 64-bit ('.venv': virtualenv)"
  }
 },
 "nbformat": 4,
 "nbformat_minor": 2
}