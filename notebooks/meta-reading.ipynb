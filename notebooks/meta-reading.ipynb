{
 "cells": [
  {
   "cell_type": "code",
   "execution_count": 1,
   "metadata": {},
   "outputs": [],
   "source": [
    "from pyspark.sql import SparkSession, DataFrame\n",
    "\n",
    "spark = SparkSession.builder.getOrCreate()"
   ]
  },
  {
   "cell_type": "code",
   "execution_count": 9,
   "metadata": {},
   "outputs": [
    {
     "output_type": "stream",
     "name": "stdout",
     "text": "/c/projects/.demo/metadatadriven\n"
    }
   ],
   "source": [
    "\"\"\"Change cwd to root of project so we can use usual filepaths.\"\"\"\n",
    "\n",
    "from os import chdir, getcwd\n",
    "\n",
    "for frag in reversed(getcwd().split('/')):\n",
    "    if frag != 'metadatadriven':\n",
    "        chdir('..')\n",
    "    else:\n",
    "        print(getcwd())\n",
    "        break"
   ]
  },
  {
   "cell_type": "code",
   "execution_count": 41,
   "metadata": {},
   "outputs": [
    {
     "output_type": "execute_result",
     "data": {
      "text/plain": "{}"
     },
     "metadata": {},
     "execution_count": 41
    }
   ],
   "source": [
    "\"\"\"Read json from dbfs or local.\"\"\"\n",
    "\n",
    "from json import load\n",
    "from os import path\n",
    "\n",
    "\n",
    "def abs_to_rel(filepath: str) -> str:\n",
    "    \"\"\"Convert `/home` to `home`.\"\"\"\n",
    "    return ''.join(filepath[1:]) if filepath[0] == '/' else filepath\n",
    "\n",
    "\n",
    "def local_file_api_path(filepath: str) -> str:\n",
    "    \"\"\"Convert `/home` to `dbfs/home` if exists.\"\"\"\n",
    "    dbfsfilepath = path.join('dbfs', abs_to_rel(filepath))\n",
    "    return dbfsfilepath if path.exists(dbfsfilepath) else filepath\n",
    "\n",
    "\n",
    "def load_json(filepath: str) -> dict:\n",
    "    \"\"\"Load json local file api.\"\"\"\n",
    "    with open(local_file_api_path(filepath), 'r') as f:\n",
    "        return load(f)\n",
    "\n",
    "load_json(path.join('mnt/houses', 'meta.json'))"
   ]
  },
  {
   "cell_type": "code",
   "execution_count": 48,
   "metadata": {},
   "outputs": [
    {
     "output_type": "execute_result",
     "data": {
      "text/plain": "{}"
     },
     "metadata": {},
     "execution_count": 48
    }
   ],
   "source": [
    "\n",
    "\n",
    "def read(folder: str) -> DataFrame:\n",
    "    \"\"\"Read folder containing metadata.\"\"\"\n",
    "    meta = load_json(path.join(folder, 'meta.json'))\n",
    "    return meta\n",
    "\n",
    "\n",
    "read('mnt/houses')"
   ]
  },
  {
   "cell_type": "code",
   "execution_count": 9,
   "metadata": {},
   "outputs": [
    {
     "output_type": "execute_result",
     "data": {
      "text/plain": "['__all__',\n '__builtins__',\n '__cached__',\n '__doc__',\n '__file__',\n '__loader__',\n '__name__',\n '__package__',\n '__spec__',\n '_get_sep',\n '_joinrealpath',\n '_varprog',\n '_varprogb',\n 'abspath',\n 'altsep',\n 'basename',\n 'commonpath',\n 'commonprefix',\n 'curdir',\n 'defpath',\n 'devnull',\n 'dirname',\n 'exists',\n 'expanduser',\n 'expandvars',\n 'extsep',\n 'genericpath',\n 'getatime',\n 'getctime',\n 'getmtime',\n 'getsize',\n 'isabs',\n 'isdir',\n 'isfile',\n 'islink',\n 'ismount',\n 'join',\n 'lexists',\n 'normcase',\n 'normpath',\n 'os',\n 'pardir',\n 'pathsep',\n 'realpath',\n 'relpath',\n 'samefile',\n 'sameopenfile',\n 'samestat',\n 'sep',\n 'split',\n 'splitdrive',\n 'splitext',\n 'stat',\n 'supports_unicode_filenames',\n 'sys']"
     },
     "metadata": {},
     "execution_count": 9
    }
   ],
   "source": [
    "dir(path)"
   ]
  }
 ],
 "metadata": {
  "language_info": {
   "codemirror_mode": {
    "name": "ipython",
    "version": 3
   },
   "file_extension": ".py",
   "mimetype": "text/x-python",
   "name": "python",
   "nbconvert_exporter": "python",
   "pygments_lexer": "ipython3",
   "version": "3.7.5-final"
  },
  "orig_nbformat": 2,
  "kernelspec": {
   "name": "python37564bitvenvvirtualenv3b613547288e4a05b54de472a6abae1a",
   "display_name": "Python 3.7.5 64-bit ('.venv': virtualenv)"
  }
 },
 "nbformat": 4,
 "nbformat_minor": 2
}